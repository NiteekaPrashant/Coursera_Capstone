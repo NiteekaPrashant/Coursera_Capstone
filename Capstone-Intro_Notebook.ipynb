{
    "cells": [
        {
            "cell_type": "markdown",
            "metadata": {
                "collapsed": true
            },
            "source": "# Capstone Project Notebook "
        },
        {
            "cell_type": "markdown",
            "metadata": {},
            "source": "This Notebook is created for Week 1 assignment for the Final Capstone Project."
        },
        {
            "cell_type": "code",
            "execution_count": 7,
            "metadata": {},
            "outputs": [
                {
                    "name": "stdout",
                    "output_type": "stream",
                    "text": "Pandas library imported ['/opt/conda/envs/Python36/lib/python3.6/site-packages/pandas']\nNumpy library imported ['/opt/conda/envs/Python36/lib/python3.6/site-packages/numpy']\n"
                }
            ],
            "source": "# Importing the Pandas library as pd\nimport pandas as pd\nprint(\"Pandas library imported\", pd.__path__)\n\n# Importing Numpy library as np\nimport numpy as np\nprint(\"Numpy library imported\", np.__path__)"
        },
        {
            "cell_type": "code",
            "execution_count": 8,
            "metadata": {},
            "outputs": [
                {
                    "name": "stdout",
                    "output_type": "stream",
                    "text": "Hello Capstone Project Course!\n"
                }
            ],
            "source": "# Print Hello Capstone Project Course!\nprint(\"Hello Capstone Project Course!\")"
        }
    ],
    "metadata": {
        "kernelspec": {
            "display_name": "Python 3.6",
            "language": "python",
            "name": "python3"
        },
        "language_info": {
            "codemirror_mode": {
                "name": "ipython",
                "version": 3
            },
            "file_extension": ".py",
            "mimetype": "text/x-python",
            "name": "python",
            "nbconvert_exporter": "python",
            "pygments_lexer": "ipython3",
            "version": "3.6.9"
        }
    },
    "nbformat": 4,
    "nbformat_minor": 1
}